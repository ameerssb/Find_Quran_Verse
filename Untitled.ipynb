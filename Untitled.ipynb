{
 "cells": [
  {
   "cell_type": "code",
   "execution_count": 1,
   "id": "d1bb1515",
   "metadata": {},
   "outputs": [],
   "source": [
    "import numpy as np\n",
    "import pandas as pd"
   ]
  },
  {
   "cell_type": "code",
   "execution_count": 34,
   "id": "a72ba3f6",
   "metadata": {},
   "outputs": [],
   "source": [
    "arabic = {'Chapter Name': {1: 'آل عمران', 2: 'الأحزاب', 3: 'محمد', 4: 'الفتح'}, 'Chapter Number': {1: 3, 2: 33, 3: 47, 4: 48}, 'Verse Number': {1: 144, 2: 40, 3: 2, 4: 29}, 'Arabic Text': {1: 'وما محمد الا رسول قد خلت من قبله الرسل افان مات او قتل انقلبتم على اعقابكم ومن ينقلب على عقبيه فلن يضر الله شيئا وسيجزي الله الشاكرين', 2: 'ما كان محمد ابا احد من رجالكم ولكن رسول الله وخاتم النبيين وكان الله بكل شيء عليما', 3: 'والذين آمنوا وعملوا الصالحات وآمنوا بما نزل على محمد وهو الحق من ربهم كفر عنهم سيئاتهم واصلح بالهم', 4: 'محمد رسول الله والذين معه اشداء على الكفار رحماء بينهم تراهم ركعا سجدا يبتغون فضلا من الله ورضوانا سيماهم في وجوههم من اثر السجود ذلك مثلهم في التوراة ومثلهم في الانجيل كزرع اخرج شطاه فآزره فاستغلظ فاستوى على سوقه يعجب الزراع ليغيظ بهم الكفار وعد الله الذين آمنوا وعملوا الصالحات منهم مغفرة واجرا عظيما'}}"
   ]
  },
  {
   "cell_type": "code",
   "execution_count": 36,
   "id": "ddbde4cc",
   "metadata": {},
   "outputs": [
    {
     "data": {
      "text/plain": [
       "{'Chapter Name': {1: 'آل عمران', 2: 'الأحزاب', 3: 'محمد', 4: 'الفتح'},\n",
       " 'Chapter Number': {1: 3, 2: 33, 3: 47, 4: 48},\n",
       " 'Verse Number': {1: 144, 2: 40, 3: 2, 4: 29},\n",
       " 'Arabic Text': {1: 'وما محمد الا رسول قد خلت من قبله الرسل افان مات او قتل انقلبتم على اعقابكم ومن ينقلب على عقبيه فلن يضر الله شيئا وسيجزي الله الشاكرين',\n",
       "  2: 'ما كان محمد ابا احد من رجالكم ولكن رسول الله وخاتم النبيين وكان الله بكل شيء عليما',\n",
       "  3: 'والذين آمنوا وعملوا الصالحات وآمنوا بما نزل على محمد وهو الحق من ربهم كفر عنهم سيئاتهم واصلح بالهم',\n",
       "  4: 'محمد رسول الله والذين معه اشداء على الكفار رحماء بينهم تراهم ركعا سجدا يبتغون فضلا من الله ورضوانا سيماهم في وجوههم من اثر السجود ذلك مثلهم في التوراة ومثلهم في الانجيل كزرع اخرج شطاه فآزره فاستغلظ فاستوى على سوقه يعجب الزراع ليغيظ بهم الكفار وعد الله الذين آمنوا وعملوا الصالحات منهم مغفرة واجرا عظيما'}}"
      ]
     },
     "execution_count": 36,
     "metadata": {},
     "output_type": "execute_result"
    }
   ],
   "source": [
    "arabic"
   ]
  },
  {
   "cell_type": "code",
   "execution_count": 37,
   "id": "f9c00bf4",
   "metadata": {},
   "outputs": [],
   "source": [
    "quran = pd.read_csv(\"quran.csv\")"
   ]
  },
  {
   "cell_type": "code",
   "execution_count": 38,
   "id": "61b2d517",
   "metadata": {},
   "outputs": [
    {
     "data": {
      "text/html": [
       "<div>\n",
       "<style scoped>\n",
       "    .dataframe tbody tr th:only-of-type {\n",
       "        vertical-align: middle;\n",
       "    }\n",
       "\n",
       "    .dataframe tbody tr th {\n",
       "        vertical-align: top;\n",
       "    }\n",
       "\n",
       "    .dataframe thead th {\n",
       "        text-align: right;\n",
       "    }\n",
       "</style>\n",
       "<table border=\"1\" class=\"dataframe\">\n",
       "  <thead>\n",
       "    <tr style=\"text-align: right;\">\n",
       "      <th></th>\n",
       "      <th>Unnamed: 0</th>\n",
       "      <th>Chapter Name</th>\n",
       "      <th>Chapter Number</th>\n",
       "      <th>Verse Number</th>\n",
       "      <th>Arabic Text</th>\n",
       "    </tr>\n",
       "  </thead>\n",
       "  <tbody>\n",
       "    <tr>\n",
       "      <th>0</th>\n",
       "      <td>0</td>\n",
       "      <td>الفاتحة</td>\n",
       "      <td>1</td>\n",
       "      <td>1</td>\n",
       "      <td>بسم الله الرحمن الرحيم</td>\n",
       "    </tr>\n",
       "    <tr>\n",
       "      <th>1</th>\n",
       "      <td>1</td>\n",
       "      <td>الفاتحة</td>\n",
       "      <td>1</td>\n",
       "      <td>2</td>\n",
       "      <td>الحمد لله رب العالمين</td>\n",
       "    </tr>\n",
       "    <tr>\n",
       "      <th>2</th>\n",
       "      <td>2</td>\n",
       "      <td>الفاتحة</td>\n",
       "      <td>1</td>\n",
       "      <td>3</td>\n",
       "      <td>الرحمن الرحيم</td>\n",
       "    </tr>\n",
       "    <tr>\n",
       "      <th>3</th>\n",
       "      <td>3</td>\n",
       "      <td>الفاتحة</td>\n",
       "      <td>1</td>\n",
       "      <td>4</td>\n",
       "      <td>مالك يوم الدين</td>\n",
       "    </tr>\n",
       "    <tr>\n",
       "      <th>4</th>\n",
       "      <td>4</td>\n",
       "      <td>الفاتحة</td>\n",
       "      <td>1</td>\n",
       "      <td>5</td>\n",
       "      <td>إياك نعبد وإياك نستعين</td>\n",
       "    </tr>\n",
       "  </tbody>\n",
       "</table>\n",
       "</div>"
      ],
      "text/plain": [
       "   Unnamed: 0 Chapter Name  Chapter Number  Verse Number  \\\n",
       "0           0      الفاتحة               1             1   \n",
       "1           1      الفاتحة               1             2   \n",
       "2           2      الفاتحة               1             3   \n",
       "3           3      الفاتحة               1             4   \n",
       "4           4      الفاتحة               1             5   \n",
       "\n",
       "              Arabic Text  \n",
       "0  بسم الله الرحمن الرحيم  \n",
       "1   الحمد لله رب العالمين  \n",
       "2           الرحمن الرحيم  \n",
       "3          مالك يوم الدين  \n",
       "4  إياك نعبد وإياك نستعين  "
      ]
     },
     "execution_count": 38,
     "metadata": {},
     "output_type": "execute_result"
    }
   ],
   "source": [
    "quran.head()"
   ]
  },
  {
   "cell_type": "code",
   "execution_count": 39,
   "id": "6bf71b62",
   "metadata": {},
   "outputs": [],
   "source": [
    "del quran['Unnamed: 0']"
   ]
  },
  {
   "cell_type": "code",
   "execution_count": 40,
   "id": "049436c3",
   "metadata": {},
   "outputs": [
    {
     "data": {
      "text/html": [
       "<div>\n",
       "<style scoped>\n",
       "    .dataframe tbody tr th:only-of-type {\n",
       "        vertical-align: middle;\n",
       "    }\n",
       "\n",
       "    .dataframe tbody tr th {\n",
       "        vertical-align: top;\n",
       "    }\n",
       "\n",
       "    .dataframe thead th {\n",
       "        text-align: right;\n",
       "    }\n",
       "</style>\n",
       "<table border=\"1\" class=\"dataframe\">\n",
       "  <thead>\n",
       "    <tr style=\"text-align: right;\">\n",
       "      <th></th>\n",
       "      <th>Chapter Name</th>\n",
       "      <th>Chapter Number</th>\n",
       "      <th>Verse Number</th>\n",
       "      <th>Arabic Text</th>\n",
       "    </tr>\n",
       "  </thead>\n",
       "  <tbody>\n",
       "    <tr>\n",
       "      <th>0</th>\n",
       "      <td>الفاتحة</td>\n",
       "      <td>1</td>\n",
       "      <td>1</td>\n",
       "      <td>بسم الله الرحمن الرحيم</td>\n",
       "    </tr>\n",
       "    <tr>\n",
       "      <th>1</th>\n",
       "      <td>الفاتحة</td>\n",
       "      <td>1</td>\n",
       "      <td>2</td>\n",
       "      <td>الحمد لله رب العالمين</td>\n",
       "    </tr>\n",
       "    <tr>\n",
       "      <th>2</th>\n",
       "      <td>الفاتحة</td>\n",
       "      <td>1</td>\n",
       "      <td>3</td>\n",
       "      <td>الرحمن الرحيم</td>\n",
       "    </tr>\n",
       "    <tr>\n",
       "      <th>3</th>\n",
       "      <td>الفاتحة</td>\n",
       "      <td>1</td>\n",
       "      <td>4</td>\n",
       "      <td>مالك يوم الدين</td>\n",
       "    </tr>\n",
       "    <tr>\n",
       "      <th>4</th>\n",
       "      <td>الفاتحة</td>\n",
       "      <td>1</td>\n",
       "      <td>5</td>\n",
       "      <td>إياك نعبد وإياك نستعين</td>\n",
       "    </tr>\n",
       "  </tbody>\n",
       "</table>\n",
       "</div>"
      ],
      "text/plain": [
       "  Chapter Name  Chapter Number  Verse Number             Arabic Text\n",
       "0      الفاتحة               1             1  بسم الله الرحمن الرحيم\n",
       "1      الفاتحة               1             2   الحمد لله رب العالمين\n",
       "2      الفاتحة               1             3           الرحمن الرحيم\n",
       "3      الفاتحة               1             4          مالك يوم الدين\n",
       "4      الفاتحة               1             5  إياك نعبد وإياك نستعين"
      ]
     },
     "execution_count": 40,
     "metadata": {},
     "output_type": "execute_result"
    }
   ],
   "source": [
    "quran.head()"
   ]
  },
  {
   "cell_type": "code",
   "execution_count": 41,
   "id": "5f72d707",
   "metadata": {},
   "outputs": [],
   "source": [
    "chapter = list(arabic['Chapter Number'].values())\n",
    "verse = list(arabic['Verse Number'].values())"
   ]
  },
  {
   "cell_type": "code",
   "execution_count": 42,
   "id": "69f42668",
   "metadata": {},
   "outputs": [
    {
     "data": {
      "text/plain": [
       "[3, 33, 47, 48]"
      ]
     },
     "execution_count": 42,
     "metadata": {},
     "output_type": "execute_result"
    }
   ],
   "source": [
    "chapter"
   ]
  },
  {
   "cell_type": "code",
   "execution_count": 111,
   "id": "15a4a448",
   "metadata": {},
   "outputs": [],
   "source": [
    "string = {}\n",
    "d, c_name, c_number, v_number, a_text = {}, {}, {}, {}, {}\n",
    "for i in range(len(chapter)):\n",
    "    q = quran.loc[(quran['Chapter Number'] == chapter[i]) & (quran['Verse Number'] == verse[i])]\n",
    "    c_name[i+1], c_number[i+1], v_number[i+1], a_text[i+1] = q['Chapter Name'].item(), q['Chapter Number'].item(), q['Verse Number'].item(), q['Arabic Text'].item()"
   ]
  },
  {
   "cell_type": "code",
   "execution_count": 112,
   "id": "c0aae7c3",
   "metadata": {},
   "outputs": [],
   "source": [
    "d['Chapter Name'], d['Chapter Number'], d['Verse Number'], d['Arabic Text'] = c_name, c_number, v_number, a_text"
   ]
  },
  {
   "cell_type": "code",
   "execution_count": 113,
   "id": "3e005482",
   "metadata": {},
   "outputs": [
    {
     "data": {
      "text/plain": [
       "{'Chapter Name': {1: 'آل عمران', 2: 'الأحزاب', 3: 'محمد', 4: 'الفتح'},\n",
       " 'Chapter Number': {1: 3, 2: 33, 3: 47, 4: 48},\n",
       " 'Verse Number': {1: 144, 2: 40, 3: 2, 4: 29},\n",
       " 'Arabic Text': {1: 'وما محمد إلا رسول قد خلت من قبله الرسل ۚ أفإن مات أو قتل انقلبتم على أعقابكم ۚ ومن ينقلب على عقبيه فلن يضر الله شيئا ۗ وسيجزي الله الشاكرين',\n",
       "  2: 'ما كان محمد أبا أحد من رجالكم ولكن رسول الله وخاتم النبيين ۗ وكان الله بكل شيء عليما',\n",
       "  3: 'والذين آمنوا وعملوا الصالحات وآمنوا بما نزل على محمد وهو الحق من ربهم ۙ كفر عنهم سيئاتهم وأصلح بالهم',\n",
       "  4: 'محمد رسول الله ۚ والذين معه أشداء على الكفار رحماء بينهم ۖ تراهم ركعا سجدا يبتغون فضلا من الله ورضوانا ۖ سيماهم في وجوههم من أثر السجود ۚ ذلك مثلهم في التوراة ۚ ومثلهم في الإنجيل كزرع أخرج شطأه فآزره فاستغلظ فاستوى على سوقه يعجب الزراع ليغيظ بهم الكفار ۗ وعد الله الذين آمنوا وعملوا الصالحات منهم مغفرة وأجرا عظيما'}}"
      ]
     },
     "execution_count": 113,
     "metadata": {},
     "output_type": "execute_result"
    }
   ],
   "source": [
    "d"
   ]
  },
  {
   "cell_type": "code",
   "execution_count": 71,
   "id": "377d9144",
   "metadata": {},
   "outputs": [
    {
     "data": {
      "text/html": [
       "<div>\n",
       "<style scoped>\n",
       "    .dataframe tbody tr th:only-of-type {\n",
       "        vertical-align: middle;\n",
       "    }\n",
       "\n",
       "    .dataframe tbody tr th {\n",
       "        vertical-align: top;\n",
       "    }\n",
       "\n",
       "    .dataframe thead th {\n",
       "        text-align: right;\n",
       "    }\n",
       "</style>\n",
       "<table border=\"1\" class=\"dataframe\">\n",
       "  <thead>\n",
       "    <tr style=\"text-align: right;\">\n",
       "      <th></th>\n",
       "      <th>Chapter Name</th>\n",
       "      <th>Chapter Number</th>\n",
       "      <th>Verse Number</th>\n",
       "      <th>Arabic Text</th>\n",
       "    </tr>\n",
       "  </thead>\n",
       "  <tbody>\n",
       "    <tr>\n",
       "      <th>436</th>\n",
       "      <td>آل عمران</td>\n",
       "      <td>3</td>\n",
       "      <td>144</td>\n",
       "      <td>وما محمد إلا رسول قد خلت من قبله الرسل ۚ أفإن ...</td>\n",
       "    </tr>\n",
       "  </tbody>\n",
       "</table>\n",
       "</div>"
      ],
      "text/plain": [
       "    Chapter Name  Chapter Number  Verse Number  \\\n",
       "436     آل عمران               3           144   \n",
       "\n",
       "                                           Arabic Text  \n",
       "436  وما محمد إلا رسول قد خلت من قبله الرسل ۚ أفإن ...  "
      ]
     },
     "execution_count": 71,
     "metadata": {},
     "output_type": "execute_result"
    }
   ],
   "source": [
    "string[0]"
   ]
  },
  {
   "cell_type": "code",
   "execution_count": 85,
   "id": "d1d4caff",
   "metadata": {},
   "outputs": [],
   "source": [
    "ar = pd.DataFrame(arabic)"
   ]
  },
  {
   "cell_type": "code",
   "execution_count": 87,
   "id": "6efee75f",
   "metadata": {},
   "outputs": [
    {
     "data": {
      "text/html": [
       "<div>\n",
       "<style scoped>\n",
       "    .dataframe tbody tr th:only-of-type {\n",
       "        vertical-align: middle;\n",
       "    }\n",
       "\n",
       "    .dataframe tbody tr th {\n",
       "        vertical-align: top;\n",
       "    }\n",
       "\n",
       "    .dataframe thead th {\n",
       "        text-align: right;\n",
       "    }\n",
       "</style>\n",
       "<table border=\"1\" class=\"dataframe\">\n",
       "  <thead>\n",
       "    <tr style=\"text-align: right;\">\n",
       "      <th></th>\n",
       "      <th>Chapter Name</th>\n",
       "      <th>Chapter Number</th>\n",
       "      <th>Verse Number</th>\n",
       "      <th>Arabic Text</th>\n",
       "    </tr>\n",
       "  </thead>\n",
       "  <tbody>\n",
       "    <tr>\n",
       "      <th>1</th>\n",
       "      <td>آل عمران</td>\n",
       "      <td>3</td>\n",
       "      <td>144</td>\n",
       "      <td>وما محمد الا رسول قد خلت من قبله الرسل افان ما...</td>\n",
       "    </tr>\n",
       "    <tr>\n",
       "      <th>2</th>\n",
       "      <td>الأحزاب</td>\n",
       "      <td>33</td>\n",
       "      <td>40</td>\n",
       "      <td>ما كان محمد ابا احد من رجالكم ولكن رسول الله و...</td>\n",
       "    </tr>\n",
       "    <tr>\n",
       "      <th>3</th>\n",
       "      <td>محمد</td>\n",
       "      <td>47</td>\n",
       "      <td>2</td>\n",
       "      <td>والذين آمنوا وعملوا الصالحات وآمنوا بما نزل عل...</td>\n",
       "    </tr>\n",
       "    <tr>\n",
       "      <th>4</th>\n",
       "      <td>الفتح</td>\n",
       "      <td>48</td>\n",
       "      <td>29</td>\n",
       "      <td>محمد رسول الله والذين معه اشداء على الكفار رحم...</td>\n",
       "    </tr>\n",
       "  </tbody>\n",
       "</table>\n",
       "</div>"
      ],
      "text/plain": [
       "  Chapter Name  Chapter Number  Verse Number  \\\n",
       "1     آل عمران               3           144   \n",
       "2      الأحزاب              33            40   \n",
       "3         محمد              47             2   \n",
       "4        الفتح              48            29   \n",
       "\n",
       "                                         Arabic Text  \n",
       "1  وما محمد الا رسول قد خلت من قبله الرسل افان ما...  \n",
       "2  ما كان محمد ابا احد من رجالكم ولكن رسول الله و...  \n",
       "3  والذين آمنوا وعملوا الصالحات وآمنوا بما نزل عل...  \n",
       "4  محمد رسول الله والذين معه اشداء على الكفار رحم...  "
      ]
     },
     "execution_count": 87,
     "metadata": {},
     "output_type": "execute_result"
    }
   ],
   "source": [
    "ar.index"
   ]
  },
  {
   "cell_type": "code",
   "execution_count": 67,
   "id": "71a32402",
   "metadata": {},
   "outputs": [],
   "source": [
    "combine = quran.loc[(quran['Chapter Number'].isin(chapter)) & (quran['Verse Number'].isin(verse))]"
   ]
  },
  {
   "cell_type": "code",
   "execution_count": 68,
   "id": "85455cbf",
   "metadata": {},
   "outputs": [
    {
     "data": {
      "text/html": [
       "<div>\n",
       "<style scoped>\n",
       "    .dataframe tbody tr th:only-of-type {\n",
       "        vertical-align: middle;\n",
       "    }\n",
       "\n",
       "    .dataframe tbody tr th {\n",
       "        vertical-align: top;\n",
       "    }\n",
       "\n",
       "    .dataframe thead th {\n",
       "        text-align: right;\n",
       "    }\n",
       "</style>\n",
       "<table border=\"1\" class=\"dataframe\">\n",
       "  <thead>\n",
       "    <tr style=\"text-align: right;\">\n",
       "      <th></th>\n",
       "      <th>Chapter Name</th>\n",
       "      <th>Chapter Number</th>\n",
       "      <th>Verse Number</th>\n",
       "      <th>Arabic Text</th>\n",
       "    </tr>\n",
       "  </thead>\n",
       "  <tbody>\n",
       "    <tr>\n",
       "      <th>1</th>\n",
       "      <td>آل عمران</td>\n",
       "      <td>3</td>\n",
       "      <td>144</td>\n",
       "      <td>وما محمد الا رسول قد خلت من قبله الرسل افان ما...</td>\n",
       "    </tr>\n",
       "    <tr>\n",
       "      <th>2</th>\n",
       "      <td>الأحزاب</td>\n",
       "      <td>33</td>\n",
       "      <td>40</td>\n",
       "      <td>ما كان محمد ابا احد من رجالكم ولكن رسول الله و...</td>\n",
       "    </tr>\n",
       "    <tr>\n",
       "      <th>3</th>\n",
       "      <td>محمد</td>\n",
       "      <td>47</td>\n",
       "      <td>2</td>\n",
       "      <td>والذين آمنوا وعملوا الصالحات وآمنوا بما نزل عل...</td>\n",
       "    </tr>\n",
       "    <tr>\n",
       "      <th>4</th>\n",
       "      <td>الفتح</td>\n",
       "      <td>48</td>\n",
       "      <td>29</td>\n",
       "      <td>محمد رسول الله والذين معه اشداء على الكفار رحم...</td>\n",
       "    </tr>\n",
       "  </tbody>\n",
       "</table>\n",
       "</div>"
      ],
      "text/plain": [
       "  Chapter Name  Chapter Number  Verse Number  \\\n",
       "1     آل عمران               3           144   \n",
       "2      الأحزاب              33            40   \n",
       "3         محمد              47             2   \n",
       "4        الفتح              48            29   \n",
       "\n",
       "                                         Arabic Text  \n",
       "1  وما محمد الا رسول قد خلت من قبله الرسل افان ما...  \n",
       "2  ما كان محمد ابا احد من رجالكم ولكن رسول الله و...  \n",
       "3  والذين آمنوا وعملوا الصالحات وآمنوا بما نزل عل...  \n",
       "4  محمد رسول الله والذين معه اشداء على الكفار رحم...  "
      ]
     },
     "execution_count": 68,
     "metadata": {},
     "output_type": "execute_result"
    }
   ],
   "source": []
  },
  {
   "cell_type": "code",
   "execution_count": 69,
   "id": "ac427cd6",
   "metadata": {},
   "outputs": [
    {
     "data": {
      "text/html": [
       "<div>\n",
       "<style scoped>\n",
       "    .dataframe tbody tr th:only-of-type {\n",
       "        vertical-align: middle;\n",
       "    }\n",
       "\n",
       "    .dataframe tbody tr th {\n",
       "        vertical-align: top;\n",
       "    }\n",
       "\n",
       "    .dataframe thead th {\n",
       "        text-align: right;\n",
       "    }\n",
       "</style>\n",
       "<table border=\"1\" class=\"dataframe\">\n",
       "  <thead>\n",
       "    <tr style=\"text-align: right;\">\n",
       "      <th></th>\n",
       "      <th>Chapter Name</th>\n",
       "      <th>Chapter Number</th>\n",
       "      <th>Verse Number</th>\n",
       "      <th>Arabic Text</th>\n",
       "    </tr>\n",
       "  </thead>\n",
       "  <tbody>\n",
       "    <tr>\n",
       "      <th>1</th>\n",
       "      <td>الفاتحة</td>\n",
       "      <td>1</td>\n",
       "      <td>2</td>\n",
       "      <td>الحمد لله رب العالمين</td>\n",
       "    </tr>\n",
       "    <tr>\n",
       "      <th>8</th>\n",
       "      <td>البقرة</td>\n",
       "      <td>2</td>\n",
       "      <td>2</td>\n",
       "      <td>ذلك الكتاب لا ريب ۛ فيه ۛ هدى للمتقين</td>\n",
       "    </tr>\n",
       "    <tr>\n",
       "      <th>35</th>\n",
       "      <td>البقرة</td>\n",
       "      <td>2</td>\n",
       "      <td>29</td>\n",
       "      <td>هو الذي خلق لكم ما في الأرض جميعا ثم استوى إلى...</td>\n",
       "    </tr>\n",
       "    <tr>\n",
       "      <th>46</th>\n",
       "      <td>البقرة</td>\n",
       "      <td>2</td>\n",
       "      <td>40</td>\n",
       "      <td>يا بني إسرائيل اذكروا نعمتي التي أنعمت عليكم و...</td>\n",
       "    </tr>\n",
       "    <tr>\n",
       "      <th>150</th>\n",
       "      <td>البقرة</td>\n",
       "      <td>2</td>\n",
       "      <td>144</td>\n",
       "      <td>قد نرى تقلب وجهك في السماء ۖ فلنولينك قبلة ترض...</td>\n",
       "    </tr>\n",
       "    <tr>\n",
       "      <th>...</th>\n",
       "      <td>...</td>\n",
       "      <td>...</td>\n",
       "      <td>...</td>\n",
       "      <td>...</td>\n",
       "    </tr>\n",
       "    <tr>\n",
       "      <th>6214</th>\n",
       "      <td>النصر</td>\n",
       "      <td>110</td>\n",
       "      <td>2</td>\n",
       "      <td>ورأيت الناس يدخلون في دين الله أفواجا</td>\n",
       "    </tr>\n",
       "    <tr>\n",
       "      <th>6217</th>\n",
       "      <td>المسد</td>\n",
       "      <td>111</td>\n",
       "      <td>2</td>\n",
       "      <td>ما أغنى عنه ماله وما كسب</td>\n",
       "    </tr>\n",
       "    <tr>\n",
       "      <th>6222</th>\n",
       "      <td>الإخلاص</td>\n",
       "      <td>112</td>\n",
       "      <td>2</td>\n",
       "      <td>الله الصمد</td>\n",
       "    </tr>\n",
       "    <tr>\n",
       "      <th>6226</th>\n",
       "      <td>الفلق</td>\n",
       "      <td>113</td>\n",
       "      <td>2</td>\n",
       "      <td>من شر ما خلق</td>\n",
       "    </tr>\n",
       "    <tr>\n",
       "      <th>6231</th>\n",
       "      <td>الناس</td>\n",
       "      <td>114</td>\n",
       "      <td>2</td>\n",
       "      <td>ملك الناس</td>\n",
       "    </tr>\n",
       "  </tbody>\n",
       "</table>\n",
       "<p>576 rows × 4 columns</p>\n",
       "</div>"
      ],
      "text/plain": [
       "     Chapter Name  Chapter Number  Verse Number  \\\n",
       "1         الفاتحة               1             2   \n",
       "8          البقرة               2             2   \n",
       "35         البقرة               2            29   \n",
       "46         البقرة               2            40   \n",
       "150        البقرة               2           144   \n",
       "...           ...             ...           ...   \n",
       "6214        النصر             110             2   \n",
       "6217        المسد             111             2   \n",
       "6222      الإخلاص             112             2   \n",
       "6226        الفلق             113             2   \n",
       "6231        الناس             114             2   \n",
       "\n",
       "                                            Arabic Text  \n",
       "1                                 الحمد لله رب العالمين  \n",
       "8                 ذلك الكتاب لا ريب ۛ فيه ۛ هدى للمتقين  \n",
       "35    هو الذي خلق لكم ما في الأرض جميعا ثم استوى إلى...  \n",
       "46    يا بني إسرائيل اذكروا نعمتي التي أنعمت عليكم و...  \n",
       "150   قد نرى تقلب وجهك في السماء ۖ فلنولينك قبلة ترض...  \n",
       "...                                                 ...  \n",
       "6214              ورأيت الناس يدخلون في دين الله أفواجا  \n",
       "6217                           ما أغنى عنه ماله وما كسب  \n",
       "6222                                         الله الصمد  \n",
       "6226                                       من شر ما خلق  \n",
       "6231                                          ملك الناس  \n",
       "\n",
       "[576 rows x 4 columns]"
      ]
     },
     "execution_count": 69,
     "metadata": {},
     "output_type": "execute_result"
    }
   ],
   "source": [
    "combine"
   ]
  }
 ],
 "metadata": {
  "kernelspec": {
   "display_name": "Python 3 (ipykernel)",
   "language": "python",
   "name": "python3"
  },
  "language_info": {
   "codemirror_mode": {
    "name": "ipython",
    "version": 3
   },
   "file_extension": ".py",
   "mimetype": "text/x-python",
   "name": "python",
   "nbconvert_exporter": "python",
   "pygments_lexer": "ipython3",
   "version": "3.9.13"
  }
 },
 "nbformat": 4,
 "nbformat_minor": 5
}
